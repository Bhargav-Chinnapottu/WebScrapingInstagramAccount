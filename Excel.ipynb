{
 "cells": [
  {
   "cell_type": "code",
   "execution_count": 12,
   "metadata": {},
   "outputs": [],
   "source": [
    "from xlsxwriter import Workbook"
   ]
  },
  {
   "cell_type": "code",
   "execution_count": 13,
   "metadata": {},
   "outputs": [],
   "source": [
    "workbook=Workbook('first.xlsx')\n",
    "worksheet=workbook.add_worksheet()"
   ]
  },
  {
   "cell_type": "code",
   "execution_count": 14,
   "metadata": {},
   "outputs": [],
   "source": [
    "for row in range(100):\n",
    "    worksheet.write(row,0,'Rownumber')\n",
    "    worksheet.write(row,1,row)"
   ]
  },
  {
   "cell_type": "code",
   "execution_count": 15,
   "metadata": {},
   "outputs": [],
   "source": [
    "workbook.close()"
   ]
  },
  {
   "cell_type": "code",
   "execution_count": 18,
   "metadata": {},
   "outputs": [],
   "source": [
    "import xlrd"
   ]
  },
  {
   "cell_type": "code",
   "execution_count": 20,
   "metadata": {},
   "outputs": [],
   "source": [
    "workbook=xlrd.open_workbook('first.xlsx')\n",
    "worksheet=workbook.sheet_by_index(0)\n",
    "rows=worksheet.nrows"
   ]
  },
  {
   "cell_type": "code",
   "execution_count": 21,
   "metadata": {},
   "outputs": [
    {
     "name": "stdout",
     "output_type": "stream",
     "text": [
      "Rownumber    0.0\n",
      "Rownumber    1.0\n",
      "Rownumber    2.0\n",
      "Rownumber    3.0\n",
      "Rownumber    4.0\n",
      "Rownumber    5.0\n",
      "Rownumber    6.0\n",
      "Rownumber    7.0\n",
      "Rownumber    8.0\n",
      "Rownumber    9.0\n",
      "Rownumber    10.0\n",
      "Rownumber    11.0\n",
      "Rownumber    12.0\n",
      "Rownumber    13.0\n",
      "Rownumber    14.0\n",
      "Rownumber    15.0\n",
      "Rownumber    16.0\n",
      "Rownumber    17.0\n",
      "Rownumber    18.0\n",
      "Rownumber    19.0\n",
      "Rownumber    20.0\n",
      "Rownumber    21.0\n",
      "Rownumber    22.0\n",
      "Rownumber    23.0\n",
      "Rownumber    24.0\n",
      "Rownumber    25.0\n",
      "Rownumber    26.0\n",
      "Rownumber    27.0\n",
      "Rownumber    28.0\n",
      "Rownumber    29.0\n",
      "Rownumber    30.0\n",
      "Rownumber    31.0\n",
      "Rownumber    32.0\n",
      "Rownumber    33.0\n",
      "Rownumber    34.0\n",
      "Rownumber    35.0\n",
      "Rownumber    36.0\n",
      "Rownumber    37.0\n",
      "Rownumber    38.0\n",
      "Rownumber    39.0\n",
      "Rownumber    40.0\n",
      "Rownumber    41.0\n",
      "Rownumber    42.0\n",
      "Rownumber    43.0\n",
      "Rownumber    44.0\n",
      "Rownumber    45.0\n",
      "Rownumber    46.0\n",
      "Rownumber    47.0\n",
      "Rownumber    48.0\n",
      "Rownumber    49.0\n",
      "Rownumber    50.0\n",
      "Rownumber    51.0\n",
      "Rownumber    52.0\n",
      "Rownumber    53.0\n",
      "Rownumber    54.0\n",
      "Rownumber    55.0\n",
      "Rownumber    56.0\n",
      "Rownumber    57.0\n",
      "Rownumber    58.0\n",
      "Rownumber    59.0\n",
      "Rownumber    60.0\n",
      "Rownumber    61.0\n",
      "Rownumber    62.0\n",
      "Rownumber    63.0\n",
      "Rownumber    64.0\n",
      "Rownumber    65.0\n",
      "Rownumber    66.0\n",
      "Rownumber    67.0\n",
      "Rownumber    68.0\n",
      "Rownumber    69.0\n",
      "Rownumber    70.0\n",
      "Rownumber    71.0\n",
      "Rownumber    72.0\n",
      "Rownumber    73.0\n",
      "Rownumber    74.0\n",
      "Rownumber    75.0\n",
      "Rownumber    76.0\n",
      "Rownumber    77.0\n",
      "Rownumber    78.0\n",
      "Rownumber    79.0\n",
      "Rownumber    80.0\n",
      "Rownumber    81.0\n",
      "Rownumber    82.0\n",
      "Rownumber    83.0\n",
      "Rownumber    84.0\n",
      "Rownumber    85.0\n",
      "Rownumber    86.0\n",
      "Rownumber    87.0\n",
      "Rownumber    88.0\n",
      "Rownumber    89.0\n",
      "Rownumber    90.0\n",
      "Rownumber    91.0\n",
      "Rownumber    92.0\n",
      "Rownumber    93.0\n",
      "Rownumber    94.0\n",
      "Rownumber    95.0\n",
      "Rownumber    96.0\n",
      "Rownumber    97.0\n",
      "Rownumber    98.0\n",
      "Rownumber    99.0\n"
     ]
    }
   ],
   "source": [
    "for row in range(rows):\n",
    "    first_col,second_col=worksheet.row_values(row)\n",
    "    print(first_col,'  ',second_col)"
   ]
  },
  {
   "cell_type": "code",
   "execution_count": null,
   "metadata": {},
   "outputs": [],
   "source": []
  }
 ],
 "metadata": {
  "kernelspec": {
   "display_name": "Python 3",
   "language": "python",
   "name": "python3"
  },
  "language_info": {
   "codemirror_mode": {
    "name": "ipython",
    "version": 3
   },
   "file_extension": ".py",
   "mimetype": "text/x-python",
   "name": "python",
   "nbconvert_exporter": "python",
   "pygments_lexer": "ipython3",
   "version": "3.8.3"
  }
 },
 "nbformat": 4,
 "nbformat_minor": 4
}
