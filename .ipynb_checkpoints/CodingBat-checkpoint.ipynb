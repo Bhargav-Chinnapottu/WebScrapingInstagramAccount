{
 "cells": [
  {
   "cell_type": "code",
   "execution_count": 2,
   "metadata": {},
   "outputs": [],
   "source": [
    "import requests\n",
    "from bs4 import BeautifulSoup\n",
    "from fake_useragent import UserAgent"
   ]
  },
  {
   "cell_type": "code",
   "execution_count": 7,
   "metadata": {},
   "outputs": [],
   "source": [
    "user_agent=UserAgent()\n",
    "page=requests.get('https://codingbat.com/java',headers={'user-agent':user_agent.chrome}).text\n",
    "soup=BeautifulSoup(page,'lxml')\n",
    "base_url='https://codingbat.com'"
   ]
  },
  {
   "cell_type": "code",
   "execution_count": 92,
   "metadata": {},
   "outputs": [
    {
     "name": "stdout",
     "output_type": "stream",
     "text": [
      "['Given a list of integers, return a list of the integers, omitting any that are less than 0.']\n",
      "['Given a list of non-negative integers, return a list of those numbers except omitting any that end with 9. (Note:  % by 10)']\n",
      "['Given a list of integers, return a list of those numbers, omitting any that are between 13 and 19 inclusive.']\n",
      "['Given a list of strings, return a list of the strings, omitting any string that contains a \"z\". (Note: the str.contains(x) method returns a boolean)']\n",
      "['Given a list of strings, return a list of the strings, omitting any string length 4 or more.']\n",
      "['Given a list of strings, return a list of the strings, omitting any string length 3 or 4.']\n",
      "['Given a list of strings, return a list where each string has \"y\" added at its end, omitting any resulting strings that contain \"yy\" as a substring anywhere.']\n",
      "['Given a list of non-negative integers, return a list of those numbers multiplied by 2, omitting any of the resulting numbers that end in 2.']\n",
      "['Given a list of integers, return a list of those numbers squared and the product added to 10, omitting any of the resulting numbers that end in 5 or 6.']\n"
     ]
    }
   ],
   "source": [
    "all_divs=soup.find_all('div',class_='summ')\n",
    "all_links=[base_url + div.a['href'] for div in all_divs]\n",
    "for links in all_links:\n",
    "    inner_link=requests.get(links,headers={'user-agent':user_agent.chrome}).text\n",
    "    inner_soup=BeautifulSoup(inner_link,'lxml')\n",
    "    all_divs=inner_soup.find_all('td',width='200')\n",
    "    question_links=[base_url+td.a['href'] for td in all_divs]\n",
    "for index,question in question_links:\n",
    "    final_link=requests.get(question,headers={'user-agent':user_agent.chrome}).text\n",
    "    final_soup=BeautifulSoup(final_link,'lxml')\n",
    "    all_questions=final_soup.find_all('div',class_='minh')\n",
    "    all_example=final_soup.find('table', border='0')\n",
    "    problem_statement=[div.p.string for div in all_questions]\n",
    "    sibling_statement=all_example.div.next_siblings\n",
    "    examples=[sibling for sibling in sibling_statement if sibling.string is not None]\n",
    "    with open(f'Questions/{index}.txt','w', encoding=\"utf-8\") as f:\n",
    "        f.write(f\"Problem: {problem_statement} \\n\")\n",
    "        for example in examples:\n",
    "            f.write(f\"Example: {example} \\n\")\n",
    "            \n",
    "    print(problem_statement)"
   ]
  },
  {
   "cell_type": "code",
   "execution_count": null,
   "metadata": {},
   "outputs": [],
   "source": []
  }
 ],
 "metadata": {
  "kernelspec": {
   "display_name": "Python 3",
   "language": "python",
   "name": "python3"
  },
  "language_info": {
   "codemirror_mode": {
    "name": "ipython",
    "version": 3
   },
   "file_extension": ".py",
   "mimetype": "text/x-python",
   "name": "python",
   "nbconvert_exporter": "python",
   "pygments_lexer": "ipython3",
   "version": "3.8.3"
  }
 },
 "nbformat": 4,
 "nbformat_minor": 4
}
