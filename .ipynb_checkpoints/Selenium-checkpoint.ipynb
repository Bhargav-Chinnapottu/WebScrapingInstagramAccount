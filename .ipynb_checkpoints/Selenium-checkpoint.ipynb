{
 "cells": [
  {
   "cell_type": "code",
   "execution_count": 25,
   "metadata": {},
   "outputs": [],
   "source": [
    "from selenium import webdriver\n",
    "import time\n",
    "from bs4 import BeautifulSoup"
   ]
  },
  {
   "cell_type": "code",
   "execution_count": 2,
   "metadata": {
    "collapsed": true
   },
   "outputs": [
    {
     "name": "stdout",
     "output_type": "stream",
     "text": [
      "Collecting package metadata (current_repodata.json): ...working... done"
     ]
    },
    {
     "name": "stderr",
     "output_type": "stream",
     "text": [
      "WARNING conda.gateways.disk.delete:unlink_or_rename_to_trash(139): Could not remove or rename C:\\Users\\USER\\anaconda3\\pkgs\\r-base-3.6.1-hf18239d_1.tar.bz2.  Please remove this file manually (you may need to reboot to free file handles)\n",
      "WARNING conda.gateways.disk.delete:unlink_or_rename_to_trash(139): Could not remove or rename C:\\Users\\USER\\anaconda3\\pkgs\\r-base-3.6.1-hf18239d_1\\lib\\R\\library\\translations\\en@quot\\LC_MESSAGES\\R.mo.  Please remove this file manually (you may need to reboot to free file handles)\n"
     ]
    },
    {
     "name": "stdout",
     "output_type": "stream",
     "text": [
      "\n",
      "Solving environment: ...working... done\n",
      "\n",
      "## Package Plan ##\n",
      "\n",
      "  environment location: C:\\Users\\USER\\anaconda3\n",
      "\n",
      "  added / updated specs:\n",
      "    - selenium\n",
      "\n",
      "\n",
      "The following packages will be downloaded:\n",
      "\n",
      "    package                    |            build\n",
      "    ---------------------------|-----------------\n",
      "    conda-4.10.0               |   py38haa95532_0         2.9 MB\n",
      "    selenium-3.141.0           |py38h2bbff1b_1000         816 KB\n",
      "    ------------------------------------------------------------\n",
      "                                           Total:         3.7 MB\n",
      "\n",
      "The following NEW packages will be INSTALLED:\n",
      "\n",
      "  selenium           pkgs/main/win-64::selenium-3.141.0-py38h2bbff1b_1000\n",
      "\n",
      "The following packages will be SUPERSEDED by a higher-priority channel:\n",
      "\n",
      "  conda              conda-forge::conda-4.10.0-py38haa244f~ --> pkgs/main::conda-4.10.0-py38haa95532_0\n",
      "\n",
      "\n",
      "\n",
      "Downloading and Extracting Packages\n",
      "\n",
      "selenium-3.141.0     | 816 KB    |            |   0% \n",
      "selenium-3.141.0     | 816 KB    | 1          |   2% \n",
      "selenium-3.141.0     | 816 KB    | #5         |  16% \n",
      "selenium-3.141.0     | 816 KB    | ##7        |  27% \n",
      "selenium-3.141.0     | 816 KB    | ###9       |  39% \n",
      "selenium-3.141.0     | 816 KB    | ######     |  61% \n",
      "selenium-3.141.0     | 816 KB    | ########6  |  86% \n",
      "selenium-3.141.0     | 816 KB    | ########## | 100% \n",
      "selenium-3.141.0     | 816 KB    | ########## | 100% \n",
      "\n",
      "conda-4.10.0         | 2.9 MB    |            |   0% \n",
      "conda-4.10.0         | 2.9 MB    |            |   1% \n",
      "conda-4.10.0         | 2.9 MB    | 8          |   8% \n",
      "conda-4.10.0         | 2.9 MB    | #          |  10% \n",
      "conda-4.10.0         | 2.9 MB    | #5         |  15% \n",
      "conda-4.10.0         | 2.9 MB    | #8         |  19% \n",
      "conda-4.10.0         | 2.9 MB    | ##1        |  21% \n",
      "conda-4.10.0         | 2.9 MB    | ##3        |  23% \n",
      "conda-4.10.0         | 2.9 MB    | ##5        |  26% \n",
      "conda-4.10.0         | 2.9 MB    | ##7        |  28% \n",
      "conda-4.10.0         | 2.9 MB    | ###        |  31% \n",
      "conda-4.10.0         | 2.9 MB    | ###4       |  34% \n",
      "conda-4.10.0         | 2.9 MB    | ###7       |  38% \n",
      "conda-4.10.0         | 2.9 MB    | ####1      |  42% \n",
      "conda-4.10.0         | 2.9 MB    | ####4      |  44% \n",
      "conda-4.10.0         | 2.9 MB    | ####6      |  46% \n",
      "conda-4.10.0         | 2.9 MB    | ####7      |  48% \n",
      "conda-4.10.0         | 2.9 MB    | ####9      |  50% \n",
      "conda-4.10.0         | 2.9 MB    | #####1     |  51% \n",
      "conda-4.10.0         | 2.9 MB    | #####2     |  53% \n",
      "conda-4.10.0         | 2.9 MB    | #####3     |  54% \n",
      "conda-4.10.0         | 2.9 MB    | #####6     |  56% \n",
      "conda-4.10.0         | 2.9 MB    | #####7     |  58% \n",
      "conda-4.10.0         | 2.9 MB    | #####9     |  59% \n",
      "conda-4.10.0         | 2.9 MB    | ######1    |  62% \n",
      "conda-4.10.0         | 2.9 MB    | ######3    |  63% \n",
      "conda-4.10.0         | 2.9 MB    | ######6    |  66% \n",
      "conda-4.10.0         | 2.9 MB    | ######8    |  69% \n",
      "conda-4.10.0         | 2.9 MB    | #######1   |  71% \n",
      "conda-4.10.0         | 2.9 MB    | #######3   |  74% \n",
      "conda-4.10.0         | 2.9 MB    | #######4   |  75% \n",
      "conda-4.10.0         | 2.9 MB    | #######7   |  77% \n",
      "conda-4.10.0         | 2.9 MB    | #######9   |  80% \n",
      "conda-4.10.0         | 2.9 MB    | ########1  |  82% \n",
      "conda-4.10.0         | 2.9 MB    | ########3  |  83% \n",
      "conda-4.10.0         | 2.9 MB    | ########4  |  85% \n",
      "conda-4.10.0         | 2.9 MB    | ########6  |  87% \n",
      "conda-4.10.0         | 2.9 MB    | ########7  |  88% \n",
      "conda-4.10.0         | 2.9 MB    | #########  |  90% \n",
      "conda-4.10.0         | 2.9 MB    | #########2 |  92% \n",
      "conda-4.10.0         | 2.9 MB    | #########3 |  94% \n",
      "conda-4.10.0         | 2.9 MB    | #########5 |  95% \n",
      "conda-4.10.0         | 2.9 MB    | #########6 |  97% \n",
      "conda-4.10.0         | 2.9 MB    | #########9 |  99% \n",
      "conda-4.10.0         | 2.9 MB    | ########## | 100% \n",
      "Preparing transaction: ...working... done\n",
      "Verifying transaction: ...working... done\n",
      "Executing transaction: ...working... done\n"
     ]
    }
   ],
   "source": [
    "import sys\n",
    "!conda install --yes --prefix {sys.prefix} selenium"
   ]
  },
  {
   "cell_type": "code",
   "execution_count": 34,
   "metadata": {},
   "outputs": [
    {
     "ename": "WebDriverException",
     "evalue": "Message: chrome not reachable\n  (Session info: chrome=89.0.4389.114)\n",
     "output_type": "error",
     "traceback": [
      "\u001b[1;31m---------------------------------------------------------------------------\u001b[0m",
      "\u001b[1;31mWebDriverException\u001b[0m                        Traceback (most recent call last)",
      "\u001b[1;32m<ipython-input-34-7d6e3f000fb9>\u001b[0m in \u001b[0;36m<module>\u001b[1;34m\u001b[0m\n\u001b[0;32m      8\u001b[0m \u001b[0msearch_bar\u001b[0m\u001b[1;33m.\u001b[0m\u001b[0msubmit\u001b[0m\u001b[1;33m(\u001b[0m\u001b[1;33m)\u001b[0m\u001b[1;33m\u001b[0m\u001b[1;33m\u001b[0m\u001b[0m\n\u001b[0;32m      9\u001b[0m \u001b[0mtime\u001b[0m\u001b[1;33m.\u001b[0m\u001b[0msleep\u001b[0m\u001b[1;33m(\u001b[0m\u001b[1;36m5\u001b[0m\u001b[1;33m)\u001b[0m\u001b[1;33m\u001b[0m\u001b[1;33m\u001b[0m\u001b[0m\n\u001b[1;32m---> 10\u001b[1;33m \u001b[0mdriver\u001b[0m\u001b[1;33m.\u001b[0m\u001b[0mclose\u001b[0m\u001b[1;33m(\u001b[0m\u001b[1;33m)\u001b[0m\u001b[1;33m\u001b[0m\u001b[1;33m\u001b[0m\u001b[0m\n\u001b[0m",
      "\u001b[1;32m~\\anaconda3\\lib\\site-packages\\selenium\\webdriver\\remote\\webdriver.py\u001b[0m in \u001b[0;36mclose\u001b[1;34m(self)\u001b[0m\n\u001b[0;32m    686\u001b[0m             \u001b[0mdriver\u001b[0m\u001b[1;33m.\u001b[0m\u001b[0mclose\u001b[0m\u001b[1;33m(\u001b[0m\u001b[1;33m)\u001b[0m\u001b[1;33m\u001b[0m\u001b[1;33m\u001b[0m\u001b[0m\n\u001b[0;32m    687\u001b[0m         \"\"\"\n\u001b[1;32m--> 688\u001b[1;33m         \u001b[0mself\u001b[0m\u001b[1;33m.\u001b[0m\u001b[0mexecute\u001b[0m\u001b[1;33m(\u001b[0m\u001b[0mCommand\u001b[0m\u001b[1;33m.\u001b[0m\u001b[0mCLOSE\u001b[0m\u001b[1;33m)\u001b[0m\u001b[1;33m\u001b[0m\u001b[1;33m\u001b[0m\u001b[0m\n\u001b[0m\u001b[0;32m    689\u001b[0m \u001b[1;33m\u001b[0m\u001b[0m\n\u001b[0;32m    690\u001b[0m     \u001b[1;32mdef\u001b[0m \u001b[0mquit\u001b[0m\u001b[1;33m(\u001b[0m\u001b[0mself\u001b[0m\u001b[1;33m)\u001b[0m\u001b[1;33m:\u001b[0m\u001b[1;33m\u001b[0m\u001b[1;33m\u001b[0m\u001b[0m\n",
      "\u001b[1;32m~\\anaconda3\\lib\\site-packages\\selenium\\webdriver\\remote\\webdriver.py\u001b[0m in \u001b[0;36mexecute\u001b[1;34m(self, driver_command, params)\u001b[0m\n\u001b[0;32m    319\u001b[0m         \u001b[0mresponse\u001b[0m \u001b[1;33m=\u001b[0m \u001b[0mself\u001b[0m\u001b[1;33m.\u001b[0m\u001b[0mcommand_executor\u001b[0m\u001b[1;33m.\u001b[0m\u001b[0mexecute\u001b[0m\u001b[1;33m(\u001b[0m\u001b[0mdriver_command\u001b[0m\u001b[1;33m,\u001b[0m \u001b[0mparams\u001b[0m\u001b[1;33m)\u001b[0m\u001b[1;33m\u001b[0m\u001b[1;33m\u001b[0m\u001b[0m\n\u001b[0;32m    320\u001b[0m         \u001b[1;32mif\u001b[0m \u001b[0mresponse\u001b[0m\u001b[1;33m:\u001b[0m\u001b[1;33m\u001b[0m\u001b[1;33m\u001b[0m\u001b[0m\n\u001b[1;32m--> 321\u001b[1;33m             \u001b[0mself\u001b[0m\u001b[1;33m.\u001b[0m\u001b[0merror_handler\u001b[0m\u001b[1;33m.\u001b[0m\u001b[0mcheck_response\u001b[0m\u001b[1;33m(\u001b[0m\u001b[0mresponse\u001b[0m\u001b[1;33m)\u001b[0m\u001b[1;33m\u001b[0m\u001b[1;33m\u001b[0m\u001b[0m\n\u001b[0m\u001b[0;32m    322\u001b[0m             response['value'] = self._unwrap_value(\n\u001b[0;32m    323\u001b[0m                 response.get('value', None))\n",
      "\u001b[1;32m~\\anaconda3\\lib\\site-packages\\selenium\\webdriver\\remote\\errorhandler.py\u001b[0m in \u001b[0;36mcheck_response\u001b[1;34m(self, response)\u001b[0m\n\u001b[0;32m    240\u001b[0m                 \u001b[0malert_text\u001b[0m \u001b[1;33m=\u001b[0m \u001b[0mvalue\u001b[0m\u001b[1;33m[\u001b[0m\u001b[1;34m'alert'\u001b[0m\u001b[1;33m]\u001b[0m\u001b[1;33m.\u001b[0m\u001b[0mget\u001b[0m\u001b[1;33m(\u001b[0m\u001b[1;34m'text'\u001b[0m\u001b[1;33m)\u001b[0m\u001b[1;33m\u001b[0m\u001b[1;33m\u001b[0m\u001b[0m\n\u001b[0;32m    241\u001b[0m             \u001b[1;32mraise\u001b[0m \u001b[0mexception_class\u001b[0m\u001b[1;33m(\u001b[0m\u001b[0mmessage\u001b[0m\u001b[1;33m,\u001b[0m \u001b[0mscreen\u001b[0m\u001b[1;33m,\u001b[0m \u001b[0mstacktrace\u001b[0m\u001b[1;33m,\u001b[0m \u001b[0malert_text\u001b[0m\u001b[1;33m)\u001b[0m\u001b[1;33m\u001b[0m\u001b[1;33m\u001b[0m\u001b[0m\n\u001b[1;32m--> 242\u001b[1;33m         \u001b[1;32mraise\u001b[0m \u001b[0mexception_class\u001b[0m\u001b[1;33m(\u001b[0m\u001b[0mmessage\u001b[0m\u001b[1;33m,\u001b[0m \u001b[0mscreen\u001b[0m\u001b[1;33m,\u001b[0m \u001b[0mstacktrace\u001b[0m\u001b[1;33m)\u001b[0m\u001b[1;33m\u001b[0m\u001b[1;33m\u001b[0m\u001b[0m\n\u001b[0m\u001b[0;32m    243\u001b[0m \u001b[1;33m\u001b[0m\u001b[0m\n\u001b[0;32m    244\u001b[0m     \u001b[1;32mdef\u001b[0m \u001b[0m_value_or_default\u001b[0m\u001b[1;33m(\u001b[0m\u001b[0mself\u001b[0m\u001b[1;33m,\u001b[0m \u001b[0mobj\u001b[0m\u001b[1;33m,\u001b[0m \u001b[0mkey\u001b[0m\u001b[1;33m,\u001b[0m \u001b[0mdefault\u001b[0m\u001b[1;33m)\u001b[0m\u001b[1;33m:\u001b[0m\u001b[1;33m\u001b[0m\u001b[1;33m\u001b[0m\u001b[0m\n",
      "\u001b[1;31mWebDriverException\u001b[0m: Message: chrome not reachable\n  (Session info: chrome=89.0.4389.114)\n"
     ]
    }
   ],
   "source": [
    "driver=webdriver.Chrome('chromedriver')\n",
    "driver.get('https://www.google.com')\n",
    "#soup=BeautifulSoup(driver.page_source,'lxml')\n",
    "#print(soup.prettify())\n",
    "search_bar=driver.find_element_by_xpath(\"//input[@class='gLFyf gsfi']\")\n",
    "search_bar.send_keys('Web scrping')\n",
    "time.sleep(15)\n",
    "search_bar.submit()\n",
    "time.sleep(5)\n",
    "driver.close()"
   ]
  },
  {
   "cell_type": "code",
   "execution_count": null,
   "metadata": {},
   "outputs": [],
   "source": []
  },
  {
   "cell_type": "code",
   "execution_count": null,
   "metadata": {},
   "outputs": [],
   "source": []
  }
 ],
 "metadata": {
  "kernelspec": {
   "display_name": "Python 3",
   "language": "python",
   "name": "python3"
  },
  "language_info": {
   "codemirror_mode": {
    "name": "ipython",
    "version": 3
   },
   "file_extension": ".py",
   "mimetype": "text/x-python",
   "name": "python",
   "nbconvert_exporter": "python",
   "pygments_lexer": "ipython3",
   "version": "3.8.3"
  }
 },
 "nbformat": 4,
 "nbformat_minor": 4
}
