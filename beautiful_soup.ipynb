{
 "cells": [
  {
   "cell_type": "code",
   "execution_count": 1,
   "metadata": {},
   "outputs": [],
   "source": [
    "import requests\n",
    "from bs4 import BeautifulSoup"
   ]
  },
  {
   "cell_type": "code",
   "execution_count": 2,
   "metadata": {},
   "outputs": [],
   "source": [
    "page=requests.get('https://www.google.com').text\n",
    "soup=BeautifulSoup(page,'lxml')"
   ]
  },
  {
   "cell_type": "code",
   "execution_count": 4,
   "metadata": {},
   "outputs": [
    {
     "name": "stdout",
     "output_type": "stream",
     "text": [
      "<!DOCTYPE html>\n",
      "<html itemscope=\"\" itemtype=\"http://schema.org/WebPage\" lang=\"sv\">\n",
      " <head>\n",
      "  <meta content=\"text/html; charset=utf-8\" http-equiv=\"Content-Type\"/>\n",
      "  <meta content=\"/images/branding/googleg/1x/googleg_standard_color_128dp.png\" itemprop=\"image\"/>\n",
      "  <title>\n",
      "   Google\n",
      "  </title>\n",
      "  <script nonce=\"63AtS1J88gk7+xMadAZ50Q==\">\n",
      "   (function(){window.google={kEI:'CJx0YN3lEejirgT56L6IBA',kEXPI:'0,1302440,96,56873,954,5105,206,4804,2316,383,246,5,304,1050,5250,1122516,1232,1196496,524,31,27,328957,51224,16114,19398,9286,9188,8384,4858,1362,3472,5818,3026,4742,12841,4998,13228,2054,920,873,10622,14527,4518,2777,919,2277,8,2796,887,706,1279,2212,530,149,1103,841,516,1522,4222,36,3514,606,2023,1777,520,1704,2565,329,1283,464,8326,3226,1990,855,7,5599,6755,5096,7876,4929,108,3407,908,2,941,2614,2397,7468,3277,3,346,230,1835,4624,149,5990,7985,4,1528,2304,923,313,833,312,6449,2893,459,1555,4067,9544,3011,1409,344,2658,4243,518,912,564,464,654,32,3854,3022,1253,3285,2214,2305,638,1494,2089,3497,10535,665,2146,375,3306,2530,479,512,1,1056,906,1140,17,50,99,2091,881,7,907,3,1167,160,2214,1,9836,109,500,1497,1229,1539,1814,38,245,912,3434,1941,617,1260,1194,2,4134,164,400,32,2859,710,77,1694,2,1394,115,1301,923,2,97,368,1715,2,345,143,1922,32,595,20,483,1368,661,35,2702,723,195,161,556,381,90,1710,2,557,351,880,108,1651,219,2,41,1,1,42,43,551,254,660,350,1,1,1,596,1509,12,2044,231,55,597,507,171,361,970,828,2,833,1178,406,39,1203,334,3,1053,864,201,35,191,2,560,2,2,1,692,2,845,494,2,2,342,203,331,51,192,1246,371,3,146,2,2,101,110,1724,272,5661498,3870,35,139,87,12,51,8797722,882,444,1,2,80,1,1796,1,9,2,2551,1,748,141,795,563,1,4265,1,1,2,1331,3299,843,1,2608,155,17,13,72,139,4,2,20,2,169,13,19,46,5,39,96,73,4,47,132,25,3,2,2,2,2,2,2,2,2,2,2,2,2,6,2,2,2,2,2,2,26,66,2,84,5,39,9,20,2,2,1,2,1,2,2,7,4,1,2,4,2,16,20,23956196,149,4010125,268,244,27138,2,1231',kBL:'o3Q4'};google.sn='webhp';google.kHL='sv';})();(function(){\n",
      "var f,h=[];function k(a){for(var b;a&&(!a.getAttribute||!(b=a.getAttribute(\"eid\")));)a=a.parentNode;return b||f}function l(a){for(var b=null;a&&(!a.getAttribute||!(b=a.getAttribute(\"leid\")));)a=a.parentNode;return b}\n",
      "function m(a,b,c,d,g){var e=\"\";c||-1!=b.search(\"&ei=\")||(e=\"&ei=\"+k(d),-1==b.search(\"&lei=\")&&(d=l(d))&&(e+=\"&lei=\"+d));d=\"\";!c&&window._cshid&&-1==b.search(\"&cshid=\")&&\"slh\"!=a&&(d=\"&cshid=\"+window._cshid);c=c||\"/\"+(g||\"gen_204\")+\"?atyp=i&ct=\"+a+\"&cad=\"+b+e+\"&zx=\"+Date.now()+d;/^http:/i.test(c)&&\"https:\"==window.location.protocol&&(google.ml&&google.ml(Error(\"a\"),!1,{src:c,glmm:1}),c=\"\");return c};f=google.kEI;google.getEI=k;google.getLEI=l;google.ml=function(){return null};google.log=function(a,b,c,d,g){if(c=m(a,b,c,d,g)){a=new Image;var e=h.length;h[e]=a;a.onerror=a.onload=a.onabort=function(){delete h[e]};a.src=c}};google.logUrl=m;}).call(this);(function(){google.y={};google.sy=[];google.x=function(a,b){if(a)var c=a.id;else{do c=Math.random();while(google.y[c])}google.y[c]=[a,b];return!1};google.sx=function(a){google.sy.push(a)};google.lm=[];google.plm=function(a){google.lm.push.apply(google.lm,a)};google.lq=[];google.load=function(a,b,c){google.lq.push([[a],b,c])};google.loadAll=function(a,b){google.lq.push([a,b])};google.bx=!1;google.lx=function(){};}).call(this);google.f={};(function(){\n",
      "document.documentElement.addEventListener(\"submit\",function(b){var a;if(a=b.target){var c=a.getAttribute(\"data-submitfalse\");a=\"1\"==c||\"q\"==c&&!a.elements.q.value?!0:!1}else a=!1;a&&(b.preventDefault(),b.stopPropagation())},!0);document.documentElement.addEventListener(\"click\",function(b){var a;a:{for(a=b.target;a&&a!=document.documentElement;a=a.parentElement)if(\"A\"==a.tagName){a=\"1\"==a.getAttribute(\"data-nohref\");break a}a=!1}a&&b.preventDefault()},!0);}).call(this);\n",
      "  </script>\n",
      "  <style>\n",
      "   #gbar,#guser{font-size:13px;padding-top:1px !important;}#gbar{height:22px}#guser{padding-bottom:7px !important;text-align:right}.gbh,.gbd{border-top:1px solid #c9d7f1;font-size:1px}.gbh{height:0;position:absolute;top:24px;width:100%}@media all{.gb1{height:22px;margin-right:.5em;vertical-align:top}#gbar{float:left}}a.gb1,a.gb4{text-decoration:underline !important}a.gb1,a.gb4{color:#00c !important}.gbi .gb4{color:#dd8e27 !important}.gbf .gb4{color:#900 !important}\n",
      "  </style>\n",
      "  <style>\n",
      "   body,td,a,p,.h{font-family:arial,sans-serif}body{margin:0;overflow-y:scroll}#gog{padding:3px 8px 0}td{line-height:.8em}.gac_m td{line-height:17px}form{margin-bottom:20px}.h{color:#1558d6}em{font-weight:bold;font-style:normal}.lst{height:25px;width:496px}.gsfi,.lst{font:18px arial,sans-serif}.gsfs{font:17px arial,sans-serif}.ds{display:inline-box;display:inline-block;margin:3px 0 4px;margin-left:4px}input{font-family:inherit}body{background:#fff;color:#000}a{color:#4b11a8;text-decoration:none}a:hover,a:active{text-decoration:underline}.fl a{color:#1558d6}a:visited{color:#4b11a8}.sblc{padding-top:5px}.sblc a{display:block;margin:2px 0;margin-left:13px;font-size:11px}.lsbb{background:#f8f9fa;border:solid 1px;border-color:#dadce0 #70757a #70757a #dadce0;height:30px}.lsbb{display:block}#WqQANb a{display:inline-block;margin:0 12px}.lsb{background:url(/images/nav_logo229.png) 0 -261px repeat-x;border:none;color:#000;cursor:pointer;height:30px;margin:0;outline:0;font:15px arial,sans-serif;vertical-align:top}.lsb:active{background:#dadce0}.lst:focus{outline:none}.tiah{width:458px}\n",
      "  </style>\n",
      "  <script nonce=\"63AtS1J88gk7+xMadAZ50Q==\">\n",
      "  </script>\n",
      " </head>\n",
      " <body bgcolor=\"#fff\">\n",
      "  <script nonce=\"63AtS1J88gk7+xMadAZ50Q==\">\n",
      "   (function(){var src='/images/nav_logo229.png';var iesg=false;document.body.onload = function(){window.n && window.n();if (document.images){new Image().src=src;}\n",
      "if (!iesg){document.f&&document.f.q.focus();document.gbqf&&document.gbqf.q.focus();}\n",
      "}\n",
      "})();\n",
      "  </script>\n",
      "  <div id=\"mngb\">\n",
      "   <div id=\"gbar\">\n",
      "    <nobr>\n",
      "     <b class=\"gb1\">\n",
      "      Sök\n",
      "     </b>\n",
      "     <a class=\"gb1\" href=\"https://www.google.se/imghp?hl=sv&amp;tab=wi\">\n",
      "      Bilder\n",
      "     </a>\n",
      "     <a class=\"gb1\" href=\"https://maps.google.se/maps?hl=sv&amp;tab=wl\">\n",
      "      Maps\n",
      "     </a>\n",
      "     <a class=\"gb1\" href=\"https://play.google.com/?hl=sv&amp;tab=w8\">\n",
      "      Play\n",
      "     </a>\n",
      "     <a class=\"gb1\" href=\"https://www.youtube.com/?gl=SE&amp;tab=w1\">\n",
      "      YouTube\n",
      "     </a>\n",
      "     <a class=\"gb1\" href=\"https://news.google.com/?tab=wn\">\n",
      "      Nyheter\n",
      "     </a>\n",
      "     <a class=\"gb1\" href=\"https://mail.google.com/mail/?tab=wm\">\n",
      "      Gmail\n",
      "     </a>\n",
      "     <a class=\"gb1\" href=\"https://drive.google.com/?tab=wo\">\n",
      "      Drive\n",
      "     </a>\n",
      "     <a class=\"gb1\" href=\"https://www.google.se/intl/sv/about/products?tab=wh\" style=\"text-decoration:none\">\n",
      "      <u>\n",
      "       Mer\n",
      "      </u>\n",
      "      »\n",
      "     </a>\n",
      "    </nobr>\n",
      "   </div>\n",
      "   <div id=\"guser\" width=\"100%\">\n",
      "    <nobr>\n",
      "     <span class=\"gbi\" id=\"gbn\">\n",
      "     </span>\n",
      "     <span class=\"gbf\" id=\"gbf\">\n",
      "     </span>\n",
      "     <span id=\"gbe\">\n",
      "     </span>\n",
      "     <a class=\"gb4\" href=\"http://www.google.se/history/optout?hl=sv\">\n",
      "      Webbhistorik\n",
      "     </a>\n",
      "     |\n",
      "     <a class=\"gb4\" href=\"/preferences?hl=sv\">\n",
      "      Inställningar\n",
      "     </a>\n",
      "     |\n",
      "     <a class=\"gb4\" href=\"https://accounts.google.com/ServiceLogin?hl=sv&amp;passive=true&amp;continue=https://www.google.com/&amp;ec=GAZAAQ\" id=\"gb_70\" target=\"_top\">\n",
      "      Logga in\n",
      "     </a>\n",
      "    </nobr>\n",
      "   </div>\n",
      "   <div class=\"gbh\" style=\"left:0\">\n",
      "   </div>\n",
      "   <div class=\"gbh\" style=\"right:0\">\n",
      "   </div>\n",
      "  </div>\n",
      "  <center>\n",
      "   <br clear=\"all\" id=\"lgpd\"/>\n",
      "   <div id=\"lga\">\n",
      "    <img alt=\"Google\" height=\"92\" id=\"hplogo\" src=\"/images/branding/googlelogo/1x/googlelogo_white_background_color_272x92dp.png\" style=\"padding:28px 0 14px\" width=\"272\"/>\n",
      "    <br/>\n",
      "    <br/>\n",
      "   </div>\n",
      "   <form action=\"/search\" name=\"f\">\n",
      "    <table cellpadding=\"0\" cellspacing=\"0\">\n",
      "     <tr valign=\"top\">\n",
      "      <td width=\"25%\">\n",
      "      </td>\n",
      "      <td align=\"center\" nowrap=\"\">\n",
      "       <input name=\"ie\" type=\"hidden\" value=\"ISO-8859-1\"/>\n",
      "       <input name=\"hl\" type=\"hidden\" value=\"sv\"/>\n",
      "       <input name=\"source\" type=\"hidden\" value=\"hp\"/>\n",
      "       <input name=\"biw\" type=\"hidden\"/>\n",
      "       <input name=\"bih\" type=\"hidden\"/>\n",
      "       <div class=\"ds\" style=\"height:32px;margin:4px 0\">\n",
      "        <div style=\"position:relative;zoom:1\">\n",
      "         <input autocomplete=\"off\" class=\"lst tiah\" maxlength=\"2048\" name=\"q\" size=\"57\" style=\"margin:0;padding:5px 8px 0 6px;vertical-align:top;color:#000;padding-right:38px\" title=\"Sök på Google\" value=\"\"/>\n",
      "         <img alt=\"\" data-script-url=\"/textinputassistant/11/sv_tia.js\" height=\"23\" id=\"tsuid1\" src=\"/textinputassistant/tia.png\" style=\"position:absolute;cursor:pointer;right:5px;top:4px;z-index:300\" width=\"27\"/>\n",
      "         <script nonce=\"63AtS1J88gk7+xMadAZ50Q==\">\n",
      "          (function(){var id='tsuid1';document.getElementById(id).onclick = function(){var s = document.createElement('script');s.src = this.getAttribute('data-script-url');(document.getElementById('xjsc')||document.body).appendChild(s);};})();\n",
      "         </script>\n",
      "        </div>\n",
      "       </div>\n",
      "       <br style=\"line-height:0\"/>\n",
      "       <span class=\"ds\">\n",
      "        <span class=\"lsbb\">\n",
      "         <input class=\"lsb\" name=\"btnG\" type=\"submit\" value=\"Sök på Google\"/>\n",
      "        </span>\n",
      "       </span>\n",
      "       <span class=\"ds\">\n",
      "        <span class=\"lsbb\">\n",
      "         <input class=\"lsb\" id=\"tsuid2\" name=\"btnI\" type=\"submit\" value=\"Jag har tur\"/>\n",
      "         <script nonce=\"63AtS1J88gk7+xMadAZ50Q==\">\n",
      "          (function(){var id='tsuid2';document.getElementById(id).onclick = function(){if (this.form.q.value){this.checked = 1;if (this.form.iflsig)this.form.iflsig.disabled = false;}\n",
      "else top.location='/doodles/';};})();\n",
      "         </script>\n",
      "         <input name=\"iflsig\" type=\"hidden\" value=\"AINFCbYAAAAAYHSqGE2mBOHkW2oBGIB0sbqNUyeT6NVR\"/>\n",
      "        </span>\n",
      "       </span>\n",
      "      </td>\n",
      "      <td align=\"left\" class=\"fl sblc\" nowrap=\"\" width=\"25%\">\n",
      "       <a href=\"/advanced_search?hl=sv&amp;authuser=0\">\n",
      "        Avancerad sökning\n",
      "       </a>\n",
      "      </td>\n",
      "     </tr>\n",
      "    </table>\n",
      "    <input id=\"gbv\" name=\"gbv\" type=\"hidden\" value=\"1\"/>\n",
      "    <script nonce=\"63AtS1J88gk7+xMadAZ50Q==\">\n",
      "     (function(){var a,b=\"1\";if(document&&document.getElementById)if(\"undefined\"!=typeof XMLHttpRequest)b=\"2\";else if(\"undefined\"!=typeof ActiveXObject){var c,d,e=[\"MSXML2.XMLHTTP.6.0\",\"MSXML2.XMLHTTP.3.0\",\"MSXML2.XMLHTTP\",\"Microsoft.XMLHTTP\"];for(c=0;d=e[c++];)try{new ActiveXObject(d),b=\"2\"}catch(h){}}a=b;if(\"2\"==a&&-1==location.search.indexOf(\"&gbv=2\")){var f=google.gbvu,g=document.getElementById(\"gbv\");g&&(g.value=a);f&&window.setTimeout(function(){location.href=f},0)};}).call(this);\n",
      "    </script>\n",
      "   </form>\n",
      "   <div id=\"gac_scont\">\n",
      "   </div>\n",
      "   <div style=\"font-size:83%;min-height:3.5em\">\n",
      "    <br/>\n",
      "   </div>\n",
      "   <span id=\"footer\">\n",
      "    <div style=\"font-size:10pt\">\n",
      "     <div id=\"WqQANb\" style=\"margin:19px auto;text-align:center\">\n",
      "      <a href=\"/intl/sv/ads/\">\n",
      "       Annonsera med Google\n",
      "      </a>\n",
      "      <a href=\"http://www.google.se/intl/sv/services/\">\n",
      "       Företagslösningar\n",
      "      </a>\n",
      "      <a href=\"/intl/sv/about.html\">\n",
      "       Allt om Google\n",
      "      </a>\n",
      "      <a href=\"https://www.google.com/setprefdomain?prefdom=SE&amp;prev=https://www.google.se/&amp;sig=K__ryNN4geOo0fAwRZ1LR73rVEnwg%3D\">\n",
      "       Google.se\n",
      "      </a>\n",
      "     </div>\n",
      "    </div>\n",
      "    <p style=\"font-size:8pt;color:#70757a\">\n",
      "     © 2021 -\n",
      "     <a href=\"/intl/sv/policies/privacy/\">\n",
      "      Sekretess\n",
      "     </a>\n",
      "     -\n",
      "     <a href=\"/intl/sv/policies/terms/\">\n",
      "      Villkor\n",
      "     </a>\n",
      "    </p>\n",
      "   </span>\n",
      "  </center>\n",
      "  <script nonce=\"63AtS1J88gk7+xMadAZ50Q==\">\n",
      "   (function(){window.google.cdo={height:0,width:0};(function(){var a=window.innerWidth,b=window.innerHeight;if(!a||!b){var c=window.document,d=\"CSS1Compat\"==c.compatMode?c.documentElement:c.body;a=d.clientWidth;b=d.clientHeight}a&&b&&(a!=google.cdo.width||b!=google.cdo.height)&&google.log(\"\",\"\",\"/client_204?&atyp=i&biw=\"+a+\"&bih=\"+b+\"&ei=\"+google.kEI);}).call(this);})();\n",
      "  </script>\n",
      "  <script nonce=\"63AtS1J88gk7+xMadAZ50Q==\">\n",
      "   (function(){google.xjs={ck:'',cs:'',excm:[]};})();\n",
      "  </script>\n",
      "  <script nonce=\"63AtS1J88gk7+xMadAZ50Q==\">\n",
      "   (function(){var u='/xjs/_/js/k\\x3dxjs.hp.en._TvvkE1713U.O/m\\x3dsb_he,d/am\\x3dAHgCHA/d\\x3d1/rs\\x3dACT90oFyFEaorlAtOBmgYQTFJryqDJ12RQ';\n",
      "var d=this||self,e=/^[\\w+/_-]+[=]{0,2}$/,f=null,g=function(a){return(a=a.querySelector&&a.querySelector(\"script[nonce]\"))&&(a=a.nonce||a.getAttribute(\"nonce\"))&&e.test(a)?a:\"\"},h=function(a){return a};var l;var n=function(a,b){this.g=b===m?a:\"\"};n.prototype.toString=function(){return this.g+\"\"};var m={};function p(){var a=u;google.lx=function(){q(a);google.lx=function(){}};google.bx||google.lx()}\n",
      "function q(a){var b=document;var c=\"SCRIPT\";\"application/xhtml+xml\"===b.contentType&&(c=c.toLowerCase());c=b.createElement(c);if(void 0===l){b=null;var k=d.trustedTypes;if(k&&k.createPolicy){try{b=k.createPolicy(\"goog#html\",{createHTML:h,createScript:h,createScriptURL:h})}catch(r){d.console&&d.console.error(r.message)}l=b}else l=b}a=(b=l)?b.createScriptURL(a):a;a=new n(a,m);c.src=a instanceof n&&a.constructor===n?a.g:\"type_error:TrustedResourceUrl\";(a=c.ownerDocument&&c.ownerDocument.defaultView)&&\n",
      "a!=d?a=g(a.document):(null===f&&(f=g(d.document)),a=f);a&&c.setAttribute(\"nonce\",a);google.timers&&google.timers.load&&google.tick&&google.tick(\"load\",\"xjsls\");document.body.appendChild(c);google.psa=!0};setTimeout(function(){p()},0);})();(function(){window.google.xjsu='/xjs/_/js/k\\x3dxjs.hp.en._TvvkE1713U.O/m\\x3dsb_he,d/am\\x3dAHgCHA/d\\x3d1/rs\\x3dACT90oFyFEaorlAtOBmgYQTFJryqDJ12RQ';})();function _DumpException(e){throw e;}\n",
      "function _F_installCss(c){}\n",
      "(function(){google.jl={blt:'none',dw:false,em:[],emtn:0,ine:false,lls:'default',pdt:0,snet:true,uwp:true};})();(function(){var pmc='{\\x22d\\x22:{},\\x22sb_he\\x22:{\\x22agen\\x22:true,\\x22cgen\\x22:true,\\x22client\\x22:\\x22heirloom-hp\\x22,\\x22dh\\x22:true,\\x22dhqt\\x22:true,\\x22ds\\x22:\\x22\\x22,\\x22ffql\\x22:\\x22en\\x22,\\x22fl\\x22:true,\\x22host\\x22:\\x22google.com\\x22,\\x22isbh\\x22:28,\\x22jsonp\\x22:true,\\x22msgs\\x22:{\\x22cibl\\x22:\\x22Rensa sökning\\x22,\\x22dym\\x22:\\x22Menade du:\\x22,\\x22lcky\\x22:\\x22Jag har tur\\x22,\\x22lml\\x22:\\x22Läs mer\\x22,\\x22oskt\\x22:\\x22Inmatningsverktyg\\x22,\\x22psrc\\x22:\\x22Den här sökningen har tagits bort från din \\\\u003Ca href\\x3d\\\\\\x22/history\\\\\\x22\\\\u003EWebbhistorik\\\\u003C/a\\\\u003E\\x22,\\x22psrl\\x22:\\x22Ta bort\\x22,\\x22sbit\\x22:\\x22Sök med bild\\x22,\\x22srch\\x22:\\x22Sök på Google\\x22},\\x22nrft\\x22:false,\\x22ovr\\x22:{},\\x22pq\\x22:\\x22\\x22,\\x22refpd\\x22:true,\\x22rfs\\x22:[],\\x22sbas\\x22:\\x220 3px 8px 0 rgba(0,0,0,0.2),0 0 0 1px rgba(0,0,0,0.08)\\x22,\\x22sbpl\\x22:16,\\x22sbpr\\x22:16,\\x22scd\\x22:10,\\x22stok\\x22:\\x22y3UfssOQCZIjWDal5k3MLr33O5M\\x22,\\x22uhde\\x22:false}}';google.pmc=JSON.parse(pmc);})();\n",
      "  </script>\n",
      " </body>\n",
      "</html>\n"
     ]
    }
   ],
   "source": [
    "print(soup.prettify())"
   ]
  },
  {
   "cell_type": "code",
   "execution_count": 9,
   "metadata": {},
   "outputs": [],
   "source": [
    "meta=soup.meta"
   ]
  },
  {
   "cell_type": "code",
   "execution_count": 10,
   "metadata": {},
   "outputs": [
    {
     "name": "stdout",
     "output_type": "stream",
     "text": [
      "text/html; charset=UTF-8\n"
     ]
    }
   ],
   "source": [
    "print(meta['content'])"
   ]
  },
  {
   "cell_type": "code",
   "execution_count": 12,
   "metadata": {},
   "outputs": [],
   "source": [
    "title=soup.title"
   ]
  },
  {
   "cell_type": "code",
   "execution_count": 13,
   "metadata": {},
   "outputs": [
    {
     "name": "stdout",
     "output_type": "stream",
     "text": [
      "<title>Google</title>\n"
     ]
    }
   ],
   "source": [
    "print(title)"
   ]
  },
  {
   "cell_type": "code",
   "execution_count": 14,
   "metadata": {},
   "outputs": [
    {
     "data": {
      "text/plain": [
       "'Google'"
      ]
     },
     "execution_count": 14,
     "metadata": {},
     "output_type": "execute_result"
    }
   ],
   "source": [
    "title.string.replace_with('Bhargav')"
   ]
  },
  {
   "cell_type": "code",
   "execution_count": 15,
   "metadata": {},
   "outputs": [
    {
     "name": "stdout",
     "output_type": "stream",
     "text": [
      "<title>Bhargav</title>\n"
     ]
    }
   ],
   "source": [
    "print(title)"
   ]
  },
  {
   "cell_type": "code",
   "execution_count": null,
   "metadata": {},
   "outputs": [],
   "source": []
  }
 ],
 "metadata": {
  "kernelspec": {
   "display_name": "Python 3",
   "language": "python",
   "name": "python3"
  },
  "language_info": {
   "codemirror_mode": {
    "name": "ipython",
    "version": 3
   },
   "file_extension": ".py",
   "mimetype": "text/x-python",
   "name": "python",
   "nbconvert_exporter": "python",
   "pygments_lexer": "ipython3",
   "version": "3.8.3"
  }
 },
 "nbformat": 4,
 "nbformat_minor": 4
}
